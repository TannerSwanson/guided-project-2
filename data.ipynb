{
 "cells": [
  {
   "cell_type": "code",
   "execution_count": 227,
   "metadata": {},
   "outputs": [
    {
     "name": "stdout",
     "output_type": "stream",
     "text": [
      "  empire_or_resistance  count\n",
      "0               empire    518\n",
      "1           resistance    482\n"
     ]
    }
   ],
   "source": [
    "import pandas as pd\n",
    "\n",
    "df = pd.read_csv(\"troop_movements.csv\")\n",
    "\n",
    "counts = df['empire_or_resistance'].value_counts()\n",
    "\n",
    "# Print the counts\n",
    "counts_df = counts.reset_index()\n",
    "counts_df.columns = ['empire_or_resistance', 'count']\n",
    "\n",
    "# Print the DataFrame\n",
    "print(counts_df)\n"
   ]
  },
  {
   "cell_type": "code",
   "execution_count": 228,
   "metadata": {},
   "outputs": [
    {
     "name": "stdout",
     "output_type": "stream",
     "text": [
      "       homeworld  count\n",
      "0           Ojom     34\n",
      "1        Stewjon     32\n",
      "2     Haruun Kal     30\n",
      "3      Trandosha     29\n",
      "4          Kalee     29\n",
      "5       Mon Cala     28\n",
      "6       Toydaria     28\n",
      "7        Dagobah     27\n",
      "8         Umbara     27\n",
      "9       Alderaan     27\n",
      "10   Aleen Minor     26\n",
      "11        Mirial     25\n",
      "12      Dathomir     25\n",
      "13       Sullust     25\n",
      "14        Ryloth     25\n",
      "15  Concord Dawn     25\n",
      "16      Kashyyyk     25\n",
      "17        Eriadu     24\n",
      "18       Iktotch     24\n",
      "19      Tatooine     24\n",
      "20      Iridonia     24\n",
      "21    Muunilinst     23\n",
      "22      Corellia     23\n",
      "23   Glee Anselm     23\n",
      "24       Serenno     23\n",
      "25       Quermia     23\n",
      "26          Tund     23\n",
      "27       Tholoth     23\n",
      "28       Vulpter     22\n",
      "29         Dorin     22\n",
      "30     Malastare     22\n",
      "31    Bestine IV     22\n",
      "32         Cerea     21\n",
      "33         Rodia     20\n",
      "34      Champala     20\n",
      "35       Troiken     20\n",
      "36         Zolan     20\n",
      "37         Naboo     19\n",
      "38       Socorro     18\n",
      "39         Skako     17\n",
      "40         Shili     17\n",
      "41     Chandrila     16\n"
     ]
    }
   ],
   "source": [
    "homeworlds = (df['homeworld'].value_counts())\n",
    "# Print the counts\n",
    "homeworlds_df = homeworlds.reset_index()\n",
    "homeworlds_df.columns = ['homeworld', 'count']\n",
    "\n",
    "# Print the DataFrame\n",
    "print(homeworlds_df)"
   ]
  },
  {
   "cell_type": "code",
   "execution_count": 229,
   "metadata": {},
   "outputs": [
    {
     "name": "stdout",
     "output_type": "stream",
     "text": [
      "            unit_type  count\n",
      "0  resistance_soldier    133\n",
      "1        tie_silencer    131\n",
      "2        stormtrooper    129\n",
      "3              x-wing    129\n",
      "4               at-at    128\n",
      "5             unknown    121\n",
      "6               at-st    118\n",
      "7         tie_fighter    111\n"
     ]
    }
   ],
   "source": [
    "unit_types = (df['unit_type'].value_counts())\n",
    "# Print the counts\n",
    "unit_types_df = unit_types.reset_index()\n",
    "unit_types_df.columns = ['unit_type', 'count']\n",
    "\n",
    "# Print the DataFrame\n",
    "print(unit_types_df)"
   ]
  },
  {
   "cell_type": "code",
   "execution_count": 230,
   "metadata": {},
   "outputs": [
    {
     "name": "stdout",
     "output_type": "stream",
     "text": [
      "               timestamp  unit_id           unit_type empire_or_resistance  \\\n",
      "0    2025-07-08 10:23:34        1         tie_fighter           resistance   \n",
      "1    2025-07-08 10:23:33        2        stormtrooper               empire   \n",
      "2    2025-07-08 10:23:32        3               at-at           resistance   \n",
      "3    2025-07-08 10:23:31        4               at-at           resistance   \n",
      "4    2025-07-08 10:23:30        5             unknown               empire   \n",
      "..                   ...      ...                 ...                  ...   \n",
      "995  2025-07-08 10:06:59      996              x-wing           resistance   \n",
      "996  2025-07-08 10:06:58      997         tie_fighter               empire   \n",
      "997  2025-07-08 10:06:57      998              x-wing               empire   \n",
      "998  2025-07-08 10:06:56      999  resistance_soldier               empire   \n",
      "999  2025-07-08 10:06:55     1000  resistance_soldier               empire   \n",
      "\n",
      "     location_x  location_y  destination_x  destination_y    homeworld  \\\n",
      "0             7           7              6              3     Iridonia   \n",
      "1             1           9              2              6       Mirial   \n",
      "2             6           2              4              2     Mon Cala   \n",
      "3             2           1              7              9     Kashyyyk   \n",
      "4             7           2              3              5     Toydaria   \n",
      "..          ...         ...            ...            ...          ...   \n",
      "995           7           3              1              1        Shili   \n",
      "996           1           7              8              1  Aleen Minor   \n",
      "997           1           5              8              9  Glee Anselm   \n",
      "998           7           2              7              9     Corellia   \n",
      "999           4          10              9              2         Tund   \n",
      "\n",
      "     is_resistance  \n",
      "0             True  \n",
      "1            False  \n",
      "2             True  \n",
      "3             True  \n",
      "4            False  \n",
      "..             ...  \n",
      "995           True  \n",
      "996          False  \n",
      "997          False  \n",
      "998          False  \n",
      "999          False  \n",
      "\n",
      "[1000 rows x 10 columns]\n"
     ]
    }
   ],
   "source": [
    "df['is_resistance'] = df['empire_or_resistance'].apply(lambda x: True if x == \"resistance\" else False)\n",
    "print(df)"
   ]
  },
  {
   "cell_type": "code",
   "execution_count": 231,
   "metadata": {},
   "outputs": [
    {
     "data": {
      "text/plain": [
       "<BarContainer object of 2 artists>"
      ]
     },
     "execution_count": 231,
     "metadata": {},
     "output_type": "execute_result"
    },
    {
     "data": {
      "image/png": "[encoded data removed]",
      "text/plain": [
       "<Figure size 640x480 with 1 Axes>"
      ]
     },
     "metadata": {},
     "output_type": "display_data"
    }
   ],
   "source": [
    "from matplotlib import pyplot as plt \n",
    "\n",
    "plt.bar(df['empire_or_resistance'].unique(), df['empire_or_resistance'].value_counts())"
   ]
  },
  {
   "cell_type": "code",
   "execution_count": 232,
   "metadata": {},
   "outputs": [],
   "source": [
    "from sklearn.tree import DecisionTreeClassifier\n",
    "from sklearn.model_selection import train_test_split\n",
    "from sklearn.metrics import accuracy_score\n",
    "\n",
    "#X = df[['homeworld', 'unit_type']]\n",
    "#print(df.columns)\n",
    "y = df['is_resistance']\n"
   ]
  },
  {
   "cell_type": "code",
   "execution_count": 233,
   "metadata": {},
   "outputs": [],
   "source": [
    "categorical_features = ['homeworld', 'unit_type']\n",
    "\n",
    "X = pd.get_dummies(df[['homeworld', 'unit_type']])"
   ]
  },
  {
   "cell_type": "code",
   "execution_count": 234,
   "metadata": {},
   "outputs": [
    {
     "name": "stdout",
     "output_type": "stream",
     "text": [
      "Accuracy: 0.605\n"
     ]
    }
   ],
   "source": [
    "dt = DecisionTreeClassifier()\n",
    "\n",
    "X_train, X_test, y_train, y_test = train_test_split(X, y, test_size=0.2, random_state=42)\n",
    "\n",
    "dt.fit(X_train, y_train)\n",
    "y_pred = dt.predict(X_test)\n",
    "\n",
    "accuracy = accuracy_score(y_test, y_pred)\n",
    "print(\"Accuracy:\", accuracy)"
   ]
  },
  {
   "cell_type": "code",
   "execution_count": 238,
   "metadata": {},
   "outputs": [
    {
     "name": "stdout",
     "output_type": "stream",
     "text": [
      "                         Feature  Importance\n",
      "0             homeworld_Alderaan    0.059302\n",
      "1          homeworld_Aleen Minor    0.008627\n",
      "2           homeworld_Bestine IV    0.010345\n",
      "3                homeworld_Cerea    0.006485\n",
      "4             homeworld_Champala    0.010545\n",
      "5            homeworld_Chandrila    0.032524\n",
      "6         homeworld_Concord Dawn    0.012061\n",
      "7             homeworld_Corellia    0.017316\n",
      "8              homeworld_Dagobah    0.006925\n",
      "9             homeworld_Dathomir    0.019620\n",
      "10               homeworld_Dorin    0.008933\n",
      "11              homeworld_Eriadu    0.009118\n",
      "12         homeworld_Glee Anselm    0.019999\n",
      "13          homeworld_Haruun Kal    0.002888\n",
      "14             homeworld_Iktotch    0.008055\n",
      "15            homeworld_Iridonia    0.003296\n",
      "16               homeworld_Kalee    0.015792\n",
      "17            homeworld_Kashyyyk    0.042790\n",
      "18           homeworld_Malastare    0.008390\n",
      "19              homeworld_Mirial    0.024476\n",
      "20            homeworld_Mon Cala    0.043354\n",
      "21          homeworld_Muunilinst    0.022034\n",
      "22               homeworld_Naboo    0.009201\n",
      "23                homeworld_Ojom    0.009345\n",
      "24             homeworld_Quermia    0.014926\n",
      "25               homeworld_Rodia    0.010376\n",
      "26              homeworld_Ryloth    0.031385\n",
      "27             homeworld_Serenno    0.026823\n",
      "28               homeworld_Shili    0.014378\n",
      "29               homeworld_Skako    0.011010\n",
      "30             homeworld_Socorro    0.010173\n",
      "31             homeworld_Stewjon    0.019706\n",
      "32             homeworld_Sullust    0.049127\n",
      "33            homeworld_Tatooine    0.004443\n",
      "34             homeworld_Tholoth    0.018432\n",
      "35            homeworld_Toydaria    0.014379\n",
      "36           homeworld_Trandosha    0.010993\n",
      "37             homeworld_Troiken    0.016293\n",
      "38                homeworld_Tund    0.019417\n",
      "39              homeworld_Umbara    0.006486\n",
      "40             homeworld_Vulpter    0.008719\n",
      "41               homeworld_Zolan    0.009551\n",
      "42               unit_type_at-at    0.044362\n",
      "43               unit_type_at-st    0.028106\n",
      "44  unit_type_resistance_soldier    0.023050\n",
      "45        unit_type_stormtrooper    0.026656\n",
      "46         unit_type_tie_fighter    0.037727\n",
      "47        unit_type_tie_silencer    0.014873\n",
      "48             unit_type_unknown    0.077249\n",
      "49              unit_type_x-wing    0.039937\n"
     ]
    }
   ],
   "source": [
    "importances = dt.feature_importances_\n",
    "\n",
    "feature_importances = pd.DataFrame({'Feature': X.columns, 'Importance': importances})\n",
    "print(feature_importances)\n"
   ]
  },
  {
   "cell_type": "code",
   "execution_count": 239,
   "metadata": {},
   "outputs": [
    {
     "data": {
      "image/png": "[encoded data removed]",
      "text/plain": [
       "<Figure size 800x600 with 1 Axes>"
      ]
     },
     "metadata": {},
     "output_type": "display_data"
    }
   ],
   "source": [
    "feature_importances.plot(kind='bar', figsize=(8,6))\n",
    "plt.title(\"Feature Importance from Decision Tree\")\n",
    "plt.ylabel(\"Importance Score\")\n",
    "plt.show()\n",
    "##plt.bar(feature_importances['Feature'], max(feature_importances['Importance'])) # make names vertica;l\n",
    "#plt.xticks(rotation=90)"
   ]
  },
  {
   "cell_type": "code",
   "execution_count": 62,
   "metadata": {},
   "outputs": [],
   "source": [
    "import pickle as pkl\n",
    "\n",
    "with open(\"trained_model.pkl\", \"wb\") as f:\n",
    "    pkl.dump(dt, f)"
   ]
  },
  {
   "cell_type": "code",
   "execution_count": 63,
   "metadata": {},
   "outputs": [
    {
     "name": "stdout",
     "output_type": "stream",
     "text": [
      "             timestamp  unit_id           unit_type  location_x  location_y  \\\n",
      "0  2023-06-03 03:19:15   919214        tie_silencer         2.0         5.0   \n",
      "1  2023-02-24 13:50:40  9467154        stormtrooper         9.0         0.0   \n",
      "2  2023-03-29 19:54:55  6585778        tie_silencer         0.0         6.0   \n",
      "3  2023-04-30 00:58:11  3878023        tie_silencer         4.0         2.0   \n",
      "4  2023-04-10 22:00:26  5537117               at-st         6.0         8.0   \n",
      "5  2023-04-06 19:26:03  5893460              x-wing         2.0         7.0   \n",
      "6  2023-03-05 22:52:50  8653686        tie_silencer         6.0         9.0   \n",
      "7  2023-03-26 10:26:45  6880282        tie_silencer         9.0         1.0   \n",
      "8  2023-02-24 10:42:24  9478496  resistance_soldier         1.0         3.0   \n",
      "9  2023-05-10 22:57:10  2930983        tie_silencer         8.0         0.0   \n",
      "\n",
      "   destination_x  destination_y    homeworld  \n",
      "0              9              3  Aleen Minor  \n",
      "1              9              1    Malastare  \n",
      "2              5              9      Serenno  \n",
      "3              9              9         Tund  \n",
      "4              5              8        Skako  \n",
      "5              6              5      Troiken  \n",
      "6              1              9      Sullust  \n",
      "7              7              2      Troiken  \n",
      "8              3              8      Stewjon  \n",
      "9              1              9      Quermia  \n"
     ]
    }
   ],
   "source": [
    "import pyarrow as pa\n",
    "import fastparquet as fp\n",
    "\n",
    "df_1m = pd.read_csv(\"troop_movements_1m.csv\")\n",
    "\n",
    "print(df_1m.head(10))"
   ]
  },
  {
   "cell_type": "code",
   "execution_count": 64,
   "metadata": {},
   "outputs": [],
   "source": [
    "df_1m.loc[df_1m[\"unit_type\"] == \"invalid_unit\", \"unit_type\"] = \"unknown\"\n",
    "\n",
    "df_1m['location_x'] = df_1m['location_x'].bfill()\n",
    "df_1m['location_y'] = df_1m['location_y'].bfill()"
   ]
  },
  {
   "cell_type": "code",
   "execution_count": 65,
   "metadata": {},
   "outputs": [
    {
     "name": "stdout",
     "output_type": "stream",
     "text": [
      "No invalid units found in the DataFrame.\n",
      "Missing location_x values: 0 out of 1000000 rows (0.00%)\n"
     ]
    }
   ],
   "source": [
    "has_invalid = (df_1m[\"unit_type\"] == \"invalid_unit\").any()\n",
    "\n",
    "if has_invalid:\n",
    "    sample_invalid = df_1m[df_1m[\"unit_type\"] == \"invalid_unit\"].sample(min(5, len(df_1m[df_1m[\"unit_type\"] == \"invalid_unit\"])))\n",
    "    print(\"Sample of rows with invalid units:\")\n",
    "    print(sample_invalid)\n",
    "else:\n",
    "    print(\"No invalid units found in the DataFrame.\")\n",
    "\n",
    "missing_count = df_1m[\"location_x\"].isna().sum()\n",
    "total_rows = len(df_1m)\n",
    "missing_percentage = (missing_count / total_rows) * 100\n",
    "\n",
    "print(f\"Missing location_x values: {missing_count} out of {total_rows} rows ({missing_percentage:.2f}%)\")\n"
   ]
  },
  {
   "cell_type": "code",
   "execution_count": 66,
   "metadata": {},
   "outputs": [],
   "source": [
    "fp.write('troop_movements_1m.parquet', df_1m)"
   ]
  },
  {
   "cell_type": "code",
   "execution_count": 71,
   "metadata": {},
   "outputs": [],
   "source": [
    "with open('trained_model.pkl', 'rb') as f:\n",
    "    dt = pkl.load(f)"
   ]
  },
  {
   "cell_type": "code",
   "execution_count": 74,
   "metadata": {},
   "outputs": [
    {
     "name": "stdout",
     "output_type": "stream",
     "text": [
      "<class 'pandas.core.frame.DataFrame'>\n"
     ]
    }
   ],
   "source": [
    "parquet_file = fp.ParquetFile('troop_movements_1m.parquet')\n",
    "cleaned_df = parquet_file.to_pandas()\n",
    "\n",
    "print(type(cleaned_df))"
   ]
  },
  {
   "cell_type": "code",
   "execution_count": 81,
   "metadata": {},
   "outputs": [
    {
     "name": "stdout",
     "output_type": "stream",
     "text": [
      "             timestamp  unit_id           unit_type  location_x  location_y  \\\n",
      "0  2023-06-03 03:19:15   919214        tie_silencer         2.0         5.0   \n",
      "1  2023-02-24 13:50:40  9467154        stormtrooper         9.0         0.0   \n",
      "2  2023-03-29 19:54:55  6585778        tie_silencer         0.0         6.0   \n",
      "3  2023-04-30 00:58:11  3878023        tie_silencer         4.0         2.0   \n",
      "4  2023-04-10 22:00:26  5537117               at-st         6.0         8.0   \n",
      "5  2023-04-06 19:26:03  5893460              x-wing         2.0         7.0   \n",
      "6  2023-03-05 22:52:50  8653686        tie_silencer         6.0         9.0   \n",
      "7  2023-03-26 10:26:45  6880282        tie_silencer         9.0         1.0   \n",
      "8  2023-02-24 10:42:24  9478496  resistance_soldier         1.0         3.0   \n",
      "9  2023-05-10 22:57:10  2930983        tie_silencer         8.0         0.0   \n",
      "\n",
      "   destination_x  destination_y    homeworld  \n",
      "0              9              3  Aleen Minor  \n",
      "1              9              1    Malastare  \n",
      "2              5              9      Serenno  \n",
      "3              9              9         Tund  \n",
      "4              5              8        Skako  \n",
      "5              6              5      Troiken  \n",
      "6              1              9      Sullust  \n",
      "7              7              2      Troiken  \n",
      "8              3              8      Stewjon  \n",
      "9              1              9      Quermia  \n",
      "(1000000,)\n",
      "[False False False False False False  True False False False]\n"
     ]
    }
   ],
   "source": [
    "\n",
    "X = pd.get_dummies(cleaned_df[['homeworld', 'unit_type']])\n",
    "predictions = dt.predict(X)\n",
    "\n",
    "print(cleaned_df.head(10))\n",
    "print(predictions[0 : 10])"
   ]
  },
  {
   "cell_type": "code",
   "execution_count": 84,
   "metadata": {},
   "outputs": [
    {
     "name": "stdout",
     "output_type": "stream",
     "text": [
      "              timestamp  unit_id           unit_type  location_x  location_y  \\\n",
      "0   2023-06-03 03:19:15   919214        tie_silencer         2.0         5.0   \n",
      "1   2023-02-24 13:50:40  9467154        stormtrooper         9.0         0.0   \n",
      "2   2023-03-29 19:54:55  6585778        tie_silencer         0.0         6.0   \n",
      "3   2023-04-30 00:58:11  3878023        tie_silencer         4.0         2.0   \n",
      "4   2023-04-10 22:00:26  5537117               at-st         6.0         8.0   \n",
      "5   2023-04-06 19:26:03  5893460              x-wing         2.0         7.0   \n",
      "6   2023-03-05 22:52:50  8653686        tie_silencer         6.0         9.0   \n",
      "7   2023-03-26 10:26:45  6880282        tie_silencer         9.0         1.0   \n",
      "8   2023-02-24 10:42:24  9478496  resistance_soldier         1.0         3.0   \n",
      "9   2023-05-10 22:57:10  2930983        tie_silencer         8.0         0.0   \n",
      "10  2023-03-17 19:15:32  7629318         tie_fighter         5.0         6.0   \n",
      "11  2023-04-27 21:09:16  4065330               at-at         0.0         7.0   \n",
      "12  2023-05-04 23:32:50  3449379               at-at         6.0         3.0   \n",
      "13  2023-04-22 14:52:23  4521826              x-wing         5.0         3.0   \n",
      "14  2023-02-24 14:57:23  9463134         tie_fighter         2.0         2.0   \n",
      "\n",
      "    destination_x  destination_y     homeworld  predictions  \n",
      "0               9              3   Aleen Minor        False  \n",
      "1               9              1     Malastare        False  \n",
      "2               5              9       Serenno        False  \n",
      "3               9              9          Tund        False  \n",
      "4               5              8         Skako        False  \n",
      "5               6              5       Troiken        False  \n",
      "6               1              9       Sullust         True  \n",
      "7               7              2       Troiken        False  \n",
      "8               3              8       Stewjon        False  \n",
      "9               1              9       Quermia        False  \n",
      "10              4              4     Trandosha        False  \n",
      "11              2              4  Concord Dawn        False  \n",
      "12              6              1       Serenno        False  \n",
      "13              4              3         Zolan        False  \n",
      "14              0              1      Kashyyyk         True  \n"
     ]
    }
   ],
   "source": [
    "# Add predictions to your DataFrame\n",
    "cleaned_df['predictions'] = predictions\n",
    "\n",
    "print(cleaned_df.head(15))"
   ]
  }
 ],
 "metadata": {
  "kernelspec": {
   "display_name": "Python 3",
   "language": "python",
   "name": "python3"
  },
  "language_info": {
   "codemirror_mode": {
    "name": "ipython",
    "version": 3
   },
   "file_extension": ".py",
   "mimetype": "text/x-python",
   "name": "python",
   "nbconvert_exporter": "python",
   "pygments_lexer": "ipython3",
   "version": "3.12.3"
  }
 },
 "nbformat": 4,
 "nbformat_minor": 2
}
