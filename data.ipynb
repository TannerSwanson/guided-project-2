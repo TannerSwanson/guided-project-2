{
 "cells": [
  {
   "cell_type": "code",
   "execution_count": null,
   "metadata": {},
   "outputs": [],
   "source": [
    "import pandas as pd\n",
    "\n",
    "df = pd.read_csv(\"troop_movements.csv\")\n",
    "\n",
    "counts = df['empire_or_resistance'].value_counts()\n",
    "\n",
    "# Print the counts\n",
    "counts_df = counts.reset_index()\n",
    "counts_df.columns = ['empire_or_resistance', 'count']\n",
    "\n",
    "# Print the DataFrame\n",
    "print(counts_df)\n"
   ]
  },
  {
   "cell_type": "code",
   "execution_count": null,
   "metadata": {},
   "outputs": [],
   "source": [
    "homeworlds = (df['homeworld'].value_counts())\n",
    "# Print the counts\n",
    "homeworlds_df = homeworlds.reset_index()\n",
    "homeworlds_df.columns = ['homeworld', 'count']\n",
    "\n",
    "# Print the DataFrame\n",
    "print(homeworlds_df)"
   ]
  },
  {
   "cell_type": "code",
   "execution_count": null,
   "metadata": {},
   "outputs": [],
   "source": [
    "unit_types = (df['unit_type'].value_counts())\n",
    "# Print the counts\n",
    "unit_types_df = unit_types.reset_index()\n",
    "unit_types_df.columns = ['unit_type', 'count']\n",
    "\n",
    "# Print the DataFrame\n",
    "print(unit_types_df)"
   ]
  },
  {
   "cell_type": "code",
   "execution_count": null,
   "metadata": {},
   "outputs": [],
   "source": [
    "df['is_resistance'] = df['empire_or_resistance'].apply(lambda x: True if x == \"resistance\" else False)\n",
    "print(df)"
   ]
  },
  {
   "cell_type": "code",
   "execution_count": null,
   "metadata": {},
   "outputs": [],
   "source": [
    "from matplotlib import pyplot as plt \n",
    "\n",
    "plt.bar(df['empire_or_resistance'].unique(), df['empire_or_resistance'].value_counts())"
   ]
  },
  {
   "cell_type": "code",
   "execution_count": null,
   "metadata": {},
   "outputs": [],
   "source": [
    "from sklearn.tree import DecisionTreeClassifier\n",
    "from sklearn.model_selection import train_test_split\n",
    "from sklearn.metrics import accuracy_score\n",
    "\n",
    "#X = df[['homeworld', 'unit_type']]\n",
    "#print(df.columns)\n",
    "y = df['is_resistance']\n"
   ]
  },
  {
   "cell_type": "code",
   "execution_count": null,
   "metadata": {},
   "outputs": [],
   "source": [
    "categorical_features = ['homeworld', 'unit_type']\n",
    "\n",
    "X = pd.get_dummies(df[['homeworld', 'unit_type']])"
   ]
  },
  {
   "cell_type": "code",
   "execution_count": null,
   "metadata": {},
   "outputs": [],
   "source": [
    "dt = DecisionTreeClassifier()\n",
    "\n",
    "X_train, X_test, y_train, y_test = train_test_split(X, y, test_size=0.2, random_state=42)\n",
    "\n",
    "dt.fit(X_train, y_train)\n",
    "y_pred = dt.predict(X_test)\n",
    "\n",
    "accuracy = accuracy_score(y_test, y_pred)\n",
    "print(\"Accuracy:\", accuracy)"
   ]
  },
  {
   "cell_type": "code",
   "execution_count": null,
   "metadata": {},
   "outputs": [],
   "source": [
    "importances = dt.feature_importances_\n",
    "\n",
    "feature_importances = pd.DataFrame({'Feature': X.columns, 'Importance': importances})\n"
   ]
  },
  {
   "cell_type": "code",
   "execution_count": null,
   "metadata": {},
   "outputs": [],
   "source": [
    "plt.bar(feature_importances['Feature'], max(feature_importances['Importance'])) # make names vertica;l\n",
    "plt.xticks(rotation=90)"
   ]
  },
  {
   "cell_type": "code",
   "execution_count": null,
   "metadata": {},
   "outputs": [],
   "source": [
    "import pickle as pkl\n",
    "\n",
    "with open(\"trained_model.pkl\", \"wb\") as f:\n",
    "    pkl.dump(dt, f)"
   ]
  }
 ],
 "metadata": {
  "kernelspec": {
   "display_name": "Python 3",
   "language": "python",
   "name": "python3"
  },
  "language_info": {
   "codemirror_mode": {
    "name": "ipython",
    "version": 3
   },
   "file_extension": ".py",
   "mimetype": "text/x-python",
   "name": "python",
   "nbconvert_exporter": "python",
   "pygments_lexer": "ipython3",
   "version": "3.12.3"
  }
 },
 "nbformat": 4,
 "nbformat_minor": 2
}
