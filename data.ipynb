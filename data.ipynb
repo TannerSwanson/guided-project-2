{
 "cells": [
  {
   "cell_type": "code",
   "execution_count": null,
   "metadata": {},
   "outputs": [],
   "source": [
    "import pandas as pd\n",
    "\n",
    "df = pd.read_csv(\"troop_movements.csv\")\n",
    "\n",
    "counts = df['empire_or_resistance'].value_counts()\n",
    "\n",
    "# Print the counts\n",
    "counts_df = counts.reset_index()\n",
    "counts_df.columns = ['empire_or_resistance', 'count']\n",
    "\n",
    "# Print the DataFrame\n",
    "print(counts_df)\n"
   ]
  },
  {
   "cell_type": "code",
   "execution_count": null,
   "metadata": {},
   "outputs": [],
   "source": [
    "homeworlds = (df['homeworld'].value_counts())\n",
    "# Print the counts\n",
    "homeworlds_df = homeworlds.reset_index()\n",
    "homeworlds_df.columns = ['homeworld', 'count']\n",
    "\n",
    "# Print the DataFrame\n",
    "print(homeworlds_df)"
   ]
  },
  {
   "cell_type": "code",
   "execution_count": null,
   "metadata": {},
   "outputs": [],
   "source": [
    "unit_types = (df['unit_type'].value_counts())\n",
    "# Print the counts\n",
    "unit_types_df = unit_types.reset_index()\n",
    "unit_types_df.columns = ['unit_type', 'count']\n",
    "\n",
    "# Print the DataFrame\n",
    "print(unit_types_df)"
   ]
  },
  {
   "cell_type": "code",
   "execution_count": null,
   "metadata": {},
   "outputs": [],
   "source": [
    "df['is_resistance'] = df['empire_or_resistance'].apply(lambda x: True if x == \"resistance\" else False)\n",
    "print(df)"
   ]
  },
  {
   "cell_type": "code",
   "execution_count": null,
   "metadata": {},
   "outputs": [],
   "source": [
    "from matplotlib import pyplot as plt \n",
    "\n",
    "plt.bar(df['empire_or_resistance'].unique(), df['empire_or_resistance'].value_counts())"
   ]
  },
  {
   "cell_type": "code",
   "execution_count": null,
   "metadata": {},
   "outputs": [],
   "source": [
    "from sklearn.tree import DecisionTreeClassifier\n",
    "from sklearn.model_selection import train_test_split\n",
    "from sklearn.metrics import accuracy_score\n",
    "\n",
    "#X = df[['homeworld', 'unit_type']]\n",
    "#print(df.columns)\n",
    "y = df['is_resistance']\n"
   ]
  },
  {
   "cell_type": "code",
   "execution_count": null,
   "metadata": {},
   "outputs": [],
   "source": [
    "categorical_features = ['homeworld', 'unit_type']\n",
    "\n",
    "X = pd.get_dummies(df[['homeworld', 'unit_type']])"
   ]
  },
  {
   "cell_type": "code",
   "execution_count": null,
   "metadata": {},
   "outputs": [],
   "source": [
    "dt = DecisionTreeClassifier()\n",
    "\n",
    "X_train, X_test, y_train, y_test = train_test_split(X, y, test_size=0.2, random_state=42)\n",
    "\n",
    "dt.fit(X_train, y_train)\n",
    "y_pred = dt.predict(X_test)\n",
    "\n",
    "accuracy = accuracy_score(y_test, y_pred)\n",
    "print(\"Accuracy:\", accuracy)"
   ]
  },
  {
   "cell_type": "code",
   "execution_count": null,
   "metadata": {},
   "outputs": [],
   "source": [
    "importances = dt.feature_importances_\n",
    "\n",
    "\n",
    "\n",
    "feature_importances = pd.DataFrame({'Feature': X.columns, 'Importance': importances})\n",
    "\n",
    "feature_importances = feature_importances.sort_values(by='Importance', ascending=False)\n",
    "\n",
    "# Print the sorted feature importances\n",
    "print(feature_importances)\n",
    "\n",
    "# Plot the feature importances\n",
    "feature_importances.plot(kind='bar', x='Feature', y='Importance', figsize=(8, 6), legend=False)\n",
    "plt.title(\"Feature Importance from Decision Tree\")\n",
    "plt.ylabel(\"Importance Score\")\n",
    "plt.xlabel(\"Feature\")\n",
    "plt.xticks(rotation=90)\n",
    "plt.show()\n"
   ]
  },
  {
   "cell_type": "code",
   "execution_count": null,
   "metadata": {},
   "outputs": [],
   "source": [
    "feature_importances.plot(kind='bar', figsize=(8,6))\n",
    "plt.title(\"Feature Importance from Decision Tree\")\n",
    "plt.ylabel(\"Importance Score\")\n",
    "plt.show()\n",
    "##plt.bar(feature_importances['Feature'], max(feature_importances['Importance'])) # make names vertica;l\n",
    "#plt.xticks(rotation=90)"
   ]
  },
  {
   "cell_type": "code",
   "execution_count": null,
   "metadata": {},
   "outputs": [],
   "source": [
    "import pickle as pkl\n",
    "\n",
    "with open(\"trained_model.pkl\", \"wb\") as f:\n",
    "    pkl.dump(dt, f)"
   ]
  },
  {
   "cell_type": "code",
   "execution_count": null,
   "metadata": {},
   "outputs": [],
   "source": [
    "import fastparquet as fp\n",
    "import pyarrow as pa\n",
    "\n",
    "\n",
    "df_1m = pd.read_csv(\"troop_movements_1m.csv\")\n",
    "\n",
    "print(df_1m.head(10))"
   ]
  },
  {
   "cell_type": "code",
   "execution_count": null,
   "metadata": {},
   "outputs": [],
   "source": [
    "#Clean data\n",
    "\n",
    "df_1m.loc[df_1m[\"unit_type\"] == \"invalid_unit\", \"unit_type\"] = \"unknown\"\n",
    "\n",
    "df_1m['location_x'] = df_1m['location_x'].bfill()\n",
    "df_1m['location_y'] = df_1m['location_y'].bfill()"
   ]
  },
  {
   "cell_type": "code",
   "execution_count": null,
   "metadata": {},
   "outputs": [],
   "source": [
    "#check after cleaning data\n",
    "has_invalid = (df_1m[\"unit_type\"] == \"invalid_unit\").any()\n",
    "\n",
    "if has_invalid:\n",
    "    sample_invalid = df_1m[df_1m[\"unit_type\"] == \"invalid_unit\"].sample(min(5, len(df_1m[df_1m[\"unit_type\"] == \"invalid_unit\"])))\n",
    "    print(\"Sample of rows with invalid units:\")\n",
    "    print(sample_invalid)\n",
    "else:\n",
    "    print(\"No invalid units found in the DataFrame.\")\n",
    "\n",
    "missing_count = df_1m[\"location_x\"].isna().sum()\n",
    "total_rows = len(df_1m)\n",
    "missing_percentage = (missing_count / total_rows) * 100\n",
    "\n",
    "print(f\"Missing location_x values: {missing_count} out of {total_rows} rows ({missing_percentage:.2f}%)\")"
   ]
  },
  {
   "cell_type": "code",
   "execution_count": null,
   "metadata": {},
   "outputs": [],
   "source": [
    "fp.write('troop_movements_1m.parquet', df_1m)\n",
    "\n",
    "with open('trained_model.pkl', 'rb') as f:\n",
    "    dt = pkl.load(f)"
   ]
  },
  {
   "cell_type": "code",
   "execution_count": null,
   "metadata": {},
   "outputs": [],
   "source": [
    "parquet_file = fp.ParquetFile('troop_movements_1m.parquet')\n",
    "cleaned_df = parquet_file.to_pandas()\n"
   ]
  },
  {
   "cell_type": "code",
   "execution_count": null,
   "metadata": {},
   "outputs": [],
   "source": [
    "X = pd.get_dummies(cleaned_df[['homeworld', 'unit_type']])\n",
    "predictions = dt.predict(X)\n",
    "\n",
    "print(cleaned_df.head(10))\n",
    "print(predictions[0 : 10])"
   ]
  },
  {
   "cell_type": "code",
   "execution_count": null,
   "metadata": {},
   "outputs": [],
   "source": [
    "# Add predictions to your DataFrame\n",
    "cleaned_df['predictions'] = predictions\n",
    "\n",
    "print(cleaned_df.head(15))"
   ]
  }
 ],
 "metadata": {
  "kernelspec": {
   "display_name": "Python 3",
   "language": "python",
   "name": "python3"
  },
  "language_info": {
   "codemirror_mode": {
    "name": "ipython",
    "version": 3
   },
   "file_extension": ".py",
   "mimetype": "text/x-python",
   "name": "python",
   "nbconvert_exporter": "python",
   "pygments_lexer": "ipython3",
   "version": "3.12.3"
  }
 },
 "nbformat": 4,
 "nbformat_minor": 2
}
